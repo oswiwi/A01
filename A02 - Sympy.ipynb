{
 "cells": [
  {
   "cell_type": "markdown",
   "metadata": {},
   "source": [
    "# Ejercicios de optimización escalar"
   ]
  },
  {
   "cell_type": "markdown",
   "metadata": {},
   "source": [
    "**Para la siguientes funciones encuentre los puntos críticos, grafique y diga si éste se trata de un máximo o mínimo, local o global.**"
   ]
  },
  {
   "cell_type": "markdown",
   "metadata": {},
   "source": [
    "$f(x)=1260+117x-9x^2$"
   ]
  },
  {
   "cell_type": "code",
   "execution_count": null,
   "metadata": {},
   "outputs": [],
   "source": [
    "import sympy as sp\n",
    "import numpy as np\n",
    "import matplotlib.pyplot as plt"
   ]
  },
  {
   "cell_type": "code",
   "execution_count": null,
   "metadata": {},
   "outputs": [
    {
     "name": "stdout",
     "output_type": "stream",
     "text": [
      "117 - 18*x\n",
      "[13/2]\n",
      "-18\n",
      "el punto critico se encuentra en 13/2 y es un punto maximo\n"
     ]
    }
   ],
   "source": [
    "def g(x) :\n",
    "    return (1260 + 117*x - 9*(x)**2)\n",
    "\n",
    "sp.var(\"x\")\n",
    "dg = sp.diff(g(x), x)\n",
    "pc = sp.solve(dg, x)\n",
    "ddg = sp.diff(dg, x)\n",
    "cd2d = ddg.subs(x, pc[0])\n",
    "\n",
    "xn = np.linspace(0, 13, 1000)\n",
    "%matplotlib inline\n",
    "\n",
    "\n",
    "plt.figure()\n",
    "plt.plot(xn, g(xn))\n",
    "for c in pc :\n",
    "    plt.plot(c, g(c), \"*r\", ms=10)\n",
    "\n",
    "print (dg)\n",
    "print(pc)\n",
    "print (ddg)\n",
    "\n",
    "\n",
    "if cd2d < 0 :\n",
    "    print(\"el punto critico se encuentra en \" + str(pc[0]) + \" y es un punto maximo\") \n",
    "elif cd2d > 0 :\n",
    "    print(\"el punto critico se encuentra en \" + str(pc[0]) + \" y es un punto maximo\")\n",
    "else :\n",
    "    print(\"el punto se encuentra en \" + str(pc[0]) + (\" y no se puede definir por criterio de segunda derivada\"))"
   ]
  },
  {
   "cell_type": "code",
   "execution_count": null,
   "metadata": {},
   "outputs": [],
   "source": []
  },
  {
   "cell_type": "code",
   "execution_count": null,
   "metadata": {},
   "outputs": [],
   "source": []
  },
  {
   "cell_type": "code",
   "execution_count": null,
   "metadata": {},
   "outputs": [],
   "source": []
  },
  {
   "cell_type": "markdown",
   "metadata": {},
   "source": [
    "$f(x)=5+x+\\frac{4}{x}$, para $x>0$"
   ]
  },
  {
   "cell_type": "code",
   "execution_count": null,
   "metadata": {},
   "outputs": [],
   "source": [
    "def g(x) :\n",
    "    return (5 + x + 4/x)\n",
    "\n",
    "x >= 0\n",
    "dg = sp.diff(g(x), x)\n",
    "pc = sp.solve(dg, x)\n",
    "ddg = sp.diff(dg, x)\n",
    "cd2d = ddg.subs(x, pc[0])\n",
    "\n",
    "xn = np.linspace(0, 13, 1000)\n",
    "%matplotlib inline\n",
    "\n",
    "\n",
    "plt.figure()\n",
    "plt.plot(xn, g(xn))\n",
    "plt.plot(c, g(c), \"*r\", ms=10)\n",
    "\n",
    "print (dg)\n",
    "print(pc)\n",
    "print (ddg)\n",
    "\n",
    "\n",
    "if cd2d < 0 :\n",
    "    print(\"el punto critico se encuentra en \" + str(pc[0]) + \" y es un punto maximo\") \n",
    "elif cd2d > 0 :\n",
    "    print(\"el punto critico se encuentra en \" + str(pc[0]) + \" y es un punto maximo\")\n",
    "else :\n",
    "    print(\"el punto se encuentra en \" + str(pc[0]) + (\" y no se puede definir por criterio de segunda derivada\"))"
   ]
  },
  {
   "cell_type": "code",
   "execution_count": null,
   "metadata": {},
   "outputs": [],
   "source": []
  },
  {
   "cell_type": "code",
   "execution_count": null,
   "metadata": {},
   "outputs": [],
   "source": []
  },
  {
   "cell_type": "code",
   "execution_count": null,
   "metadata": {},
   "outputs": [],
   "source": []
  },
  {
   "cell_type": "markdown",
   "metadata": {},
   "source": [
    "$f(x)=6-2x+\\sqrt{18-2x^2}$, para $-3\\leq x\\leq 3$"
   ]
  },
  {
   "cell_type": "code",
   "execution_count": null,
   "metadata": {},
   "outputs": [],
   "source": [
    "def g(x) :\n",
    "     return (6 - 2*x + sp.sqrt(18 - 2*x**2))\n",
    "    \n",
    "puntos = [point for point in pc if -3 <= point <= 3]\n",
    "dg = sp.diff(g(x), x)\n",
    "pc = sp.solve(dg, x)\n",
    "ddg = sp.diff(dg, x)\n",
    "cd2d = ddg.subs(x, pc[0])\n",
    "\n",
    "xn = np.linspace(-3, 3, 1000)\n",
    "%matplotlib inline\n",
    "\n",
    "\n",
    "plt.figure()\n",
    "plt.plot(xn, g(xn))\n",
    "plt.plot(pc[0], g(pc[0]), \"*r\", ms=10)\n",
    "\n",
    "\n",
    "print (dg)\n",
    "print(pc)\n",
    "print (ddg)\n",
    "\n",
    "\n",
    "if cd2d < 0 :\n",
    "    print(\"el punto critico se encuentra en \" + str(pc[0]) + \" y es un punto maximo\") \n",
    "elif cd2d > 0 :\n",
    "    print(\"el punto critico se encuentra en \" + str(pc[0]) + \" y es un punto maximo\")\n",
    "else :\n",
    "    print(\"el punto se encuentra en \" + str(pc[0]) + (\" y no se puede definir por criterio de segunda derivada\"))"
   ]
  },
  {
   "cell_type": "code",
   "execution_count": null,
   "metadata": {},
   "outputs": [],
   "source": []
  },
  {
   "cell_type": "code",
   "execution_count": null,
   "metadata": {},
   "outputs": [],
   "source": []
  },
  {
   "cell_type": "code",
   "execution_count": null,
   "metadata": {},
   "outputs": [],
   "source": []
  },
  {
   "cell_type": "markdown",
   "metadata": {},
   "source": [
    "$f(x)=\\frac{1}{4}x^4+\\frac{1}{3}x^3-x^2$ en el intervalo $[-3,1.7]$"
   ]
  },
  {
   "cell_type": "code",
   "execution_count": null,
   "metadata": {},
   "outputs": [],
   "source": [
    "def g(x) :\n",
    "     return (1/4*x**4 + 1/3*x**3 - x**2)\n",
    "    \n",
    "puntos = [point for point in pc if -3 <= point <= 1.7]\n",
    "dg = sp.diff(g(x), x)\n",
    "pc = sp.solve(dg, x)\n",
    "ddg = sp.diff(dg, x)\n",
    "cd2d = ddg.subs(x, pc[0])\n",
    "\n",
    "xn = np.linspace(-3, 1.7, 1000)\n",
    "%matplotlib inline\n",
    "\n",
    "\n",
    "plt.figure()\n",
    "plt.plot(xn, g(xn))\n",
    "for c in pc :\n",
    "    plt.plot(c, g(c), \"*r\", ms=10)\n",
    "\n",
    "\n",
    "print (dg)\n",
    "print(pc)\n",
    "print (ddg)\n",
    "\n",
    "if cd2d < 0 :\n",
    "    print(\"el punto critico se encuentra en \" + str(pc[0]) + \" y es un punto maximo\") \n",
    "elif cd2d > 0 :\n",
    "    print(\"el punto critico se encuentra en \" + str(pc[0]) + \" y es un punto maximo\")\n",
    "else :\n",
    "    print(\"el punto se encuentra en \" + str(pc[0]) + (\" y no se puede definir por criterio de segunda derivada\"))"
   ]
  },
  {
   "cell_type": "code",
   "execution_count": null,
   "metadata": {},
   "outputs": [],
   "source": []
  },
  {
   "cell_type": "code",
   "execution_count": null,
   "metadata": {},
   "outputs": [],
   "source": []
  },
  {
   "cell_type": "code",
   "execution_count": null,
   "metadata": {},
   "outputs": [],
   "source": []
  },
  {
   "cell_type": "markdown",
   "metadata": {},
   "source": [
    "---\n",
    "**Resuelva los siguientes problemas usando la librería `SymPy`. Use celdas en `Markdown` para explicar su procedimiento.**"
   ]
  },
  {
   "cell_type": "markdown",
   "metadata": {},
   "source": [
    "El perímetro de un triángulo isósceles es de $10 cm$. ¿Cuánto deben medir sus lados para que el volumen del cuerpo generado por la rotación del triángulo en torno a su base sea el mayor posible? (Volumen de un cono $= \\frac{1}{3}\\pi r^2 h$, donde $r$ es el radio de la base y $h$ la altura del cono)."
   ]
  },
  {
   "cell_type": "code",
   "execution_count": null,
   "metadata": {},
   "outputs": [],
   "source": []
  },
  {
   "cell_type": "code",
   "execution_count": null,
   "metadata": {},
   "outputs": [],
   "source": []
  },
  {
   "cell_type": "code",
   "execution_count": null,
   "metadata": {},
   "outputs": [],
   "source": []
  },
  {
   "cell_type": "code",
   "execution_count": null,
   "metadata": {},
   "outputs": [],
   "source": []
  },
  {
   "cell_type": "code",
   "execution_count": null,
   "metadata": {},
   "outputs": [],
   "source": []
  },
  {
   "cell_type": "markdown",
   "metadata": {},
   "source": [
    "Disponemos de una barra de aluminio de 6 metros para construir una portería de fútbol. Si queremos que el área de la portería sea máxima, ¿cuánto deben medir los postes y el travesaño?"
   ]
  },
  {
   "cell_type": "code",
   "execution_count": null,
   "metadata": {},
   "outputs": [],
   "source": []
  },
  {
   "cell_type": "code",
   "execution_count": null,
   "metadata": {},
   "outputs": [],
   "source": []
  },
  {
   "cell_type": "code",
   "execution_count": null,
   "metadata": {},
   "outputs": [],
   "source": []
  },
  {
   "cell_type": "code",
   "execution_count": null,
   "metadata": {},
   "outputs": [],
   "source": []
  },
  {
   "cell_type": "code",
   "execution_count": null,
   "metadata": {},
   "outputs": [],
   "source": []
  }
 ],
 "metadata": {
  "kernelspec": {
   "display_name": "Python 3 (ipykernel)",
   "language": "python",
   "name": "python3"
  },
  "language_info": {
   "codemirror_mode": {
    "name": "ipython",
    "version": 3
   },
   "file_extension": ".py",
   "mimetype": "text/x-python",
   "name": "python",
   "nbconvert_exporter": "python",
   "pygments_lexer": "ipython3",
   "version": "3.11.4"
  }
 },
 "nbformat": 4,
 "nbformat_minor": 2
}
