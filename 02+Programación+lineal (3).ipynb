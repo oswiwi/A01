{
  "cells": [
    {
      "cell_type": "markdown",
      "source": [
        "Oswaldo ordaz\n",
        "31/08/23"
      ],
      "metadata": {
        "id": "rndzy1QV_xsP"
      }
    },
    {
      "cell_type": "markdown",
      "metadata": {
        "id": "NW2J7FKNspD5"
      },
      "source": [
        "# Programación lineal"
      ]
    },
    {
      "cell_type": "markdown",
      "metadata": {
        "id": "X7QgdRhpspD7"
      },
      "source": [
        "> La programación lineal es el campo de la optimización matemática dedicado a maximizar o minimizar (optimizar) funciones lineales, denominada función objetivo, de tal forma que las variables de dicha función estén sujetas a una serie de restricciones expresadas mediante un sistema de ecuaciones o inecuaciones también lineales.\n",
        "\n",
        "\n",
        "<img style=\"float: right; margin: 0px 0px 15px 15px;\" src=\"https://upload.wikimedia.org/wikipedia/commons/thumb/0/0c/Linear_Programming_Feasible_Region.svg/2000px-Linear_Programming_Feasible_Region.svg.png\" width=\"400px\" height=\"125px\" />\n",
        "\n",
        "<img style=\"float: center\" src=\"https://upload.wikimedia.org/wikipedia/commons/thumb/e/ef/3dpoly.svg/220px-3dpoly.svg.png\" width=\"350px\" height=\"125px\" />\n",
        "\n",
        "\n",
        "**Referencias:**\n",
        "- https://es.wikipedia.org/wiki/Programaci%C3%B3n_lineal\n",
        "- https://docs.scipy.org/doc/scipy-0.18.1/reference/optimize.html\n",
        "- http://bdigital.unal.edu.co/5037/4/guillermojimenezlozano.2006_Parte1.pdf"
      ]
    },
    {
      "cell_type": "markdown",
      "metadata": {
        "id": "2dUMwhJYspD8"
      },
      "source": [
        "## 1. Apuntes históricos\n",
        "\n",
        "<img style=\"float: right\" src=\"https://upload.wikimedia.org/wikipedia/commons/5/5e/JohnvonNeumann-LosAlamos.gif\" width=\"200px\" height=\"125px\" />\n",
        "\n",
        "\n",
        "- 1826:\tJoseph Fourier anticipa la programación lineal. Carl Friedrich Gauss resuelve ecuaciones lineales por eliminación \"gaussiana\".\n",
        "- 1902:\tGyula Farkas concibe un método para resolver sistemas de inecuaciones.\n",
        "- Es hasta la Segunda Guerra Mundial que se plantea la programación lineal como un modelo matemático para planificar gastos y retornos, de modo que se reduzcan costos de guerra y aumentar pérdidas del enemigo. Secreto hasta 1947 (posguerra).\n",
        "- 1947:\tGeorge Dantzig publica el algoritmo simplex y John von Neumann desarrolló la teoría de la dualidad. Se sabe que Leonid Kantoróvich también formuló la teoría en forma independiente.\n",
        "- Fue usado por muchas industrias en la planificación diaria.\n",
        "\n",
        "**Hasta acá, tiempos exponenciales de solución. Lo siguiente, tiempo polinomial.**\n",
        "\n",
        "- 1979: Leonid Khachiyan, diseñó el llamado Algoritmo del elipsoide, a través del cual demostró que el problema de la programación lineal es resoluble de manera eficiente, es decir, en tiempo polinomial.\n",
        "- 1984: Narendra Karmarkar introduce el método del punto interior para resolver problemas de programación lineal.\n",
        "\n",
        "<img style=\"float: center\" src=\"https://upload.wikimedia.org/wikipedia/commons/thumb/e/ef/Simplex-description-en.svg/240px-Simplex-description-en.svg.png\" width=\"200px\" height=\"125px\" />"
      ]
    },
    {
      "cell_type": "code",
      "source": [],
      "metadata": {
        "id": "kGhNwRhfsw_o"
      },
      "execution_count": null,
      "outputs": []
    },
    {
      "cell_type": "markdown",
      "metadata": {
        "id": "APMc3vJwspD8"
      },
      "source": [
        " $$ y \\geq 3x + 4 $$"
      ]
    },
    {
      "cell_type": "markdown",
      "metadata": {
        "id": "9_STQVc6spD8"
      },
      "source": [
        "## 2. Problemas de programación lineal\n",
        "\n",
        "### 2.1. Ejemplo básico\n",
        "Una multinacional farmacéutica desea fabricar un compuesto nutritivo a base de dos productos A y B.  El producto A contiene  $30\\%$ de proteínas,  un $1\\%$ de grasas y un  $10\\%$ de azúcares.  El producto B  contiene  un  $5\\%$  de proteínas,  un  $7\\%$ de grasas  y un  $10\\%$  de  azúcares.\n",
        "\n",
        "El compuesto debe de tener,  al menos, $25g$ de proteínas,  $6g$ de grasas y $30g$ de azúcares.  El coste del producto A es de $0.6$ u.m./g  y el de B es de $0.2$  u.m./g\n",
        "\n",
        "Se desea encontrar la cantidad en gramos de cada producto para que el coste total sea mínimo.\n",
        "\n",
        "Formular el problema de decidir cuánto hacer de cada producto como un problema de programación lineal."
      ]
    },
    {
      "cell_type": "code",
      "source": [
        "import numpy as np\n",
        "import scipy.optimize as opt\n",
        "\n",
        "c = np.array ([0.2,\n",
        "              0.6])\n",
        "Aub = np.array ([\n",
        "    [-.05, -.3],\n",
        "    [-.07, -.01],\n",
        "    [-.1, -.1]\n",
        "])\n",
        "bub = np.array([-25,\n",
        "                -6,\n",
        "                -30])\n",
        "sol = opt.linprog(c, Aub, bub)\n",
        "sol\n"
      ],
      "metadata": {
        "colab": {
          "base_uri": "https://localhost:8080/"
        },
        "id": "3N_3rLf4xKZQ",
        "outputId": "c47ac4fa-c91e-4d90-d3b6-78df75a7faf0"
      },
      "execution_count": 4,
      "outputs": [
        {
          "output_type": "execute_result",
          "data": {
            "text/plain": [
              "        message: Optimization terminated successfully. (HiGHS Status 7: Optimal)\n",
              "        success: True\n",
              "         status: 0\n",
              "            fun: 76.0\n",
              "              x: [ 2.600e+02  4.000e+01]\n",
              "            nit: 2\n",
              "          lower:  residual: [ 2.600e+02  4.000e+01]\n",
              "                 marginals: [ 0.000e+00  0.000e+00]\n",
              "          upper:  residual: [       inf        inf]\n",
              "                 marginals: [ 0.000e+00  0.000e+00]\n",
              "          eqlin:  residual: []\n",
              "                 marginals: []\n",
              "        ineqlin:  residual: [ 0.000e+00  1.260e+01  0.000e+00]\n",
              "                 marginals: [-1.600e+00 -0.000e+00 -1.200e+00]\n",
              " mip_node_count: 0\n",
              " mip_dual_bound: 0.0\n",
              "        mip_gap: 0.0"
            ]
          },
          "metadata": {},
          "execution_count": 4
        }
      ]
    },
    {
      "cell_type": "markdown",
      "metadata": {
        "id": "Kste8Cq9spD8"
      },
      "source": [
        "#### Solución\n",
        "\n"
      ]
    },
    {
      "cell_type": "markdown",
      "metadata": {
        "id": "ZOFuWZoqspD8"
      },
      "source": [
        "Solución gráfica:"
      ]
    },
    {
      "cell_type": "markdown",
      "metadata": {
        "id": "NbZt5YgyspD9"
      },
      "source": [
        "### 2.2. Ejemplo básico 2\n",
        "Una  fábrica  de  carrocerías  de  automóviles  y camiones  tiene  dos naves.\n",
        "\n",
        "+ En  la nave A,  para  hacer  la  carrocería  de  un  camión,  se  invierten  siete  días-operario,  para  fabricar  la  de  un  coche  se  precisan dos días-operario.\n",
        "\n",
        "+ En la nave B se invierten tres días operario tanto en carrocerías de camión como de coche.\n",
        "\n",
        "Por limitaciones de mano de obra y maquinaria, la nave A dispone de $300$ días operario, y la nave B de $270$ días-operario.\n",
        "\n",
        "Si los beneficios que se obtienen por cada camión son de $600$ u.m y por  cada  automóvil  $200$ u.m,  ¿cuántas  unidades  de  cada  uno  se deben  producir  para maximizar las  ganancias?\n",
        "\n",
        "**Nota:** el problema $\\max_{\\boldsymbol{x}}\\boldsymbol{g}(\\boldsymbol{x})$ es equivalente a $\\min_{\\boldsymbol{x}}-\\boldsymbol{g}(\\boldsymbol{x})$."
      ]
    },
    {
      "cell_type": "code",
      "source": [],
      "metadata": {
        "colab": {
          "base_uri": "https://localhost:8080/"
        },
        "id": "8fPgaJBVs14R",
        "outputId": "ea5c2087-e466-4af5-9dc0-8a246340bc82"
      },
      "execution_count": 2,
      "outputs": [
        {
          "output_type": "execute_result",
          "data": {
            "text/plain": [
              "        message: Optimization terminated successfully. (HiGHS Status 7: Optimal)\n",
              "        success: True\n",
              "         status: 0\n",
              "            fun: 76.0\n",
              "              x: [ 2.600e+02  4.000e+01]\n",
              "            nit: 2\n",
              "          lower:  residual: [ 2.600e+02  4.000e+01]\n",
              "                 marginals: [ 0.000e+00  0.000e+00]\n",
              "          upper:  residual: [       inf        inf]\n",
              "                 marginals: [ 0.000e+00  0.000e+00]\n",
              "          eqlin:  residual: []\n",
              "                 marginals: []\n",
              "        ineqlin:  residual: [ 0.000e+00  1.260e+01  0.000e+00]\n",
              "                 marginals: [-1.600e+00 -0.000e+00 -1.200e+00]\n",
              " mip_node_count: 0\n",
              " mip_dual_bound: 0.0\n",
              "        mip_gap: 0.0"
            ]
          },
          "metadata": {},
          "execution_count": 2
        }
      ]
    },
    {
      "cell_type": "code",
      "source": [
        "Aub @ sol.x"
      ],
      "metadata": {
        "colab": {
          "base_uri": "https://localhost:8080/"
        },
        "id": "j2e1gZpIuP4Z",
        "outputId": "c61d1f50-009b-4cea-b3cf-cca4db15ff49"
      },
      "execution_count": 3,
      "outputs": [
        {
          "output_type": "execute_result",
          "data": {
            "text/plain": [
              "array([-25. , -18.6, -30. ])"
            ]
          },
          "metadata": {},
          "execution_count": 3
        }
      ]
    },
    {
      "cell_type": "markdown",
      "metadata": {
        "id": "EB5yFgbzspD9"
      },
      "source": [
        "Resolviendo el problema 2 (Maximización de utilidad en carros y camiones), con la función `linprog`"
      ]
    },
    {
      "cell_type": "markdown",
      "metadata": {
        "id": "S-EZkH-PspD9"
      },
      "source": [
        "## 3. ¿Cómo se resuelve en python?\n",
        "\n",
        "### 3.1 Librería `SciPy`\n",
        "\n",
        "<img style=\"float: right; margin: 0px 0px 15px 15px;\" src=\"https://scipy.org/_static/images/scipy_med.png\" width=\"200px\" height=\"75px\" />\n",
        "\n",
        "`SciPy` es un software de código abierto basado en `Python` para matemáticas, ciencia e ingeniería.\n",
        "\n",
        "La **Librería `SciPy`** es uno de los paquetes principales y provee varias rutinas numéricas eficientes. Entre ellas, para integración numérica y optimización.\n",
        "\n",
        "En esta clase, y en lo que resta del módulo, estaremos utilizando el módulo `optimize` de la librería `SciPy`.\n",
        "\n",
        "**Importémoslo**"
      ]
    },
    {
      "cell_type": "code",
      "execution_count": null,
      "metadata": {
        "id": "CM74MHsTspD9"
      },
      "outputs": [],
      "source": [
        "import scipy.optimize as opt"
      ]
    },
    {
      "cell_type": "markdown",
      "metadata": {
        "id": "Y8Dfcs9mspD-"
      },
      "source": [
        "# Importar el módulo optimize de la librería scipy"
      ]
    },
    {
      "cell_type": "markdown",
      "metadata": {
        "id": "20iGR_WJspD-"
      },
      "source": [
        "El módulo `optimize` que acabamos de importar contiene varias funciones para optimización y búsqueda de raices. Entre ellas se encuentra la función `linprog`\n",
        "\n",
        "---"
      ]
    },
    {
      "cell_type": "code",
      "execution_count": null,
      "metadata": {
        "id": "frMDGLOgspD-"
      },
      "outputs": [],
      "source": [
        "opt.linprog?"
      ]
    },
    {
      "cell_type": "markdown",
      "metadata": {
        "id": "U-0rpw5YspD-"
      },
      "source": [
        "**Actividad.** Mónica hace aretes y cadenitas de joyería. Es tan buena, que todo lo que hace lo vende.\n",
        "\n",
        "Le toma 30 minutos hacer un par de aretes y una hora hacer una cadenita, y como Mónica también es estudihambre, solo dispone de 10 horas a la semana para hacer las joyas. Por otra parte, el material que compra solo le alcanza para hacer 15 unidades (el par de aretes cuenta como unidad) de joyas por semana.\n",
        "\n",
        "La utilidad que le deja la venta de las joyas es $\\$15$ en cada par de aretes y $\\$20$ en cada cadenita.\n",
        "\n",
        "¿Cuántos pares de aretes y cuántas cadenitas debería hacer Mónica para maximizar su utilidad?\n",
        "\n",
        "Formular el problema en la forma explicada y obtener la solución gráfica (puede ser a mano).\n",
        "\n",
        "**Diez minutos: quien primero lo haga, comparte pantalla para explicarlo y le subiré la nota de alguna tarea a 100.**"
      ]
    },
    {
      "cell_type": "code",
      "source": [],
      "metadata": {
        "id": "EKV21uXsvMdU"
      },
      "execution_count": 3,
      "outputs": []
    },
    {
      "cell_type": "markdown",
      "source": [
        "INFO\n",
        "* 30 min 2 aretes = 15\n",
        "* 1 hr cadenita = 20\n",
        "* 10 hrs a la semana\n",
        "* 15 total\n",
        "\n",
        "maximizar\n",
        "* ver los cotos de cuanto le puede sacar a los productos, mas aparte que aproveche sus 10 hrs totales\n",
        "* 200 si le dedica 10 hrs a puro hacer cadenas\n",
        "* 300 si le dedica 10 hrs a puros aretes\n",
        "\n"
      ],
      "metadata": {
        "id": "XOawXvUPvjEv"
      }
    },
    {
      "cell_type": "code",
      "source": [
        "import numpy as np\n",
        "import scipy.optimize as opt\n",
        "\n",
        "c = np.array ([-15,\n",
        "             -20])\n",
        "Aub = np.array ([\n",
        "    [.05, 1],\n",
        "    [1, 1]\n",
        "])\n",
        "bub = np.array([10,\n",
        "                15])\n",
        "sol = opt.linprog(c, Aub, bub)\n",
        "sol\n"
      ],
      "metadata": {
        "colab": {
          "base_uri": "https://localhost:8080/"
        },
        "id": "bTpScqmavQgu",
        "outputId": "839e2a13-e618-4e54-bbaf-2ad98606bd37"
      },
      "execution_count": 6,
      "outputs": [
        {
          "output_type": "execute_result",
          "data": {
            "text/plain": [
              "        message: Optimization terminated successfully. (HiGHS Status 7: Optimal)\n",
              "        success: True\n",
              "         status: 0\n",
              "            fun: -273.6842105263158\n",
              "              x: [ 5.263e+00  9.737e+00]\n",
              "            nit: 2\n",
              "          lower:  residual: [ 5.263e+00  9.737e+00]\n",
              "                 marginals: [ 0.000e+00  0.000e+00]\n",
              "          upper:  residual: [       inf        inf]\n",
              "                 marginals: [ 0.000e+00  0.000e+00]\n",
              "          eqlin:  residual: []\n",
              "                 marginals: []\n",
              "        ineqlin:  residual: [ 0.000e+00  0.000e+00]\n",
              "                 marginals: [-5.263e+00 -1.474e+01]\n",
              " mip_node_count: 0\n",
              " mip_dual_bound: 0.0\n",
              "        mip_gap: 0.0"
            ]
          },
          "metadata": {},
          "execution_count": 6
        }
      ]
    },
    {
      "cell_type": "markdown",
      "source": [
        "## 4. Problema de transporte 1\n",
        "- **Referencia**: http://bdigital.unal.edu.co/5037/4/guillermojimenezlozano.2006_Parte1.pdf\n",
        "\n",
        "Una  empresa tiene dos fábricas A y B.  En ellas  se fabrica un determinado  producto, a razón de 500  y 400 unidades por día respectivamente.  El producto  ha  de  ser distribuido posteriormente  a  tres  centros  C,  D  y  E,  que  requieren,  respectivamente,  200,  300  y  400  unidades.  Los  costos  de  transportar cada unidad del producto desde cada fábrica a cada centro distribuidor son los  indicados  en la tabla  siguiente:\n",
        "\n",
        "Factoría|C|D|E|Fabricación (Unidades)\n",
        ":----|----|----|----|----\n",
        "A|  50 u.m|60 u.m|10 u.m|500 u\n",
        "B|  25 u.m|40 u.m|20 u.m|400 u\n",
        "Demanda|200|300|400|\n",
        "\n",
        "**¿De qué manera  deben  organizar  el transporte a fin de que los gastos sean mínimos?**\n",
        "\n",
        "\n",
        "Formulemos el problema para ser resuelto por la programación lineal con\n",
        "- $x_1$: unidades transportadas de la factoría \"A\" al centro \"C\"\n",
        "- $x_2$: unidades transportadas de la factoría \"A\" al centro \"D\"\n",
        "- $x_3$: unidades transportadas de la factoría \"A\" al centro \"E\"\n",
        "- $x_4$: unidades transportadas de la factoría \"B\" al centro \"C\"\n",
        "- $x_5$: unidades transportadas de la factoría \"B\" al centro \"D\"\n",
        "- $x_6$: unidades transportadas de la factoría \"B\" al centro \"E\"\n",
        "\n",
        "se tienen las siguientes ecuaciones:\n",
        "\n",
        "Restricciones de la producción:\n",
        "\n",
        "- $x_{AC} + x_{AD} + x_{AE} \\leq 500$\n",
        "- $x_{BC} + x_{BD} + x_{BE} \\leq 400$\n",
        "\n",
        "Restricciones del consumo:\n",
        "\n",
        "- $x_{AC} + x_{BC} \\geq 200$\n",
        "- $x_{AD} + x_{BD} \\geq 300$\n",
        "- $x_{AE} + x_{BE} \\geq 400$\n",
        "\n",
        "La función objetivo será:\n",
        "\n",
        "$$\\min_{x_1,\\dots,x_6}50x_{AC} + 60x_{AD} + 10x_{AE} + 25x_{BC} + 40x_{BD} + 20x_{BE}$$\n",
        "\n",
        "Resolver con `linprog`"
      ],
      "metadata": {
        "id": "G9FyL_mZvSPh"
      }
    },
    {
      "cell_type": "code",
      "source": [
        "Aub = np.array ([\n",
        "    [1, 1, 1, 0, 0, 0],\n",
        "    [0, 0, 0, 1, 1, 1]\n",
        "])\n",
        "\n",
        "bub = np.array([500,\n",
        "                400])\n",
        "Aeq = np.array ([\n",
        "    [1, 0, 0, 1, 0, 0],\n",
        "    [0, 1, 0, 0, 1, 0],\n",
        "    [0, 0, 1, 0, 0, 1]\n",
        "] )\n",
        "beq = np.array ([200,\n",
        "                 300,\n",
        "                 400\n",
        "])\n",
        "sol = opt.linprog(c, Aub, bub, Aeq, beq)\n",
        "sol"
      ],
      "metadata": {
        "colab": {
          "base_uri": "https://localhost:8080/"
        },
        "id": "kKYUneOsvSzP",
        "outputId": "97820f14-b77b-4ead-c712-0789074b458b"
      },
      "execution_count": 10,
      "outputs": [
        {
          "output_type": "execute_result",
          "data": {
            "text/plain": [
              "        message: Optimization terminated successfully. (HiGHS Status 7: Optimal)\n",
              "        success: True\n",
              "         status: 0\n",
              "            fun: 23000.0\n",
              "              x: [ 0.000e+00  1.000e+02  4.000e+02  2.000e+02  2.000e+02\n",
              "                   0.000e+00]\n",
              "            nit: 1\n",
              "          lower:  residual: [ 0.000e+00  1.000e+02  4.000e+02  2.000e+02\n",
              "                              2.000e+02  0.000e+00]\n",
              "                 marginals: [ 5.000e+00  0.000e+00  0.000e+00  0.000e+00\n",
              "                              0.000e+00  3.000e+01]\n",
              "          upper:  residual: [       inf        inf        inf        inf\n",
              "                                    inf        inf]\n",
              "                 marginals: [ 0.000e+00  0.000e+00  0.000e+00  0.000e+00\n",
              "                              0.000e+00  0.000e+00]\n",
              "          eqlin:  residual: [ 0.000e+00  0.000e+00  0.000e+00]\n",
              "                 marginals: [ 4.500e+01  6.000e+01  1.000e+01]\n",
              "        ineqlin:  residual: [ 0.000e+00  0.000e+00]\n",
              "                 marginals: [-0.000e+00 -2.000e+01]\n",
              " mip_node_count: 0\n",
              " mip_dual_bound: 0.0\n",
              "        mip_gap: 0.0"
            ]
          },
          "metadata": {},
          "execution_count": 10
        }
      ]
    },
    {
      "cell_type": "markdown",
      "metadata": {
        "id": "-SGT1OrsspD-"
      },
      "source": [
        "\n"
      ]
    },
    {
      "cell_type": "markdown",
      "metadata": {
        "id": "-VtiWRzyspD-"
      },
      "source": [
        "## 5. Optimización de inversión en bonos\n",
        "\n",
        "**Referencia:**"
      ]
    },
    {
      "cell_type": "code",
      "execution_count": null,
      "metadata": {
        "id": "f9bOHzppspD-",
        "outputId": "4bf97b5f-3761-44e8-919e-82b93e4b0a66"
      },
      "outputs": [
        {
          "data": {
            "image/jpeg": "[encoded data removed]",
            "text/html": [
              "\n",
              "        <iframe\n",
              "            width=\"400\"\n",
              "            height=\"300\"\n",
              "            src=\"https://www.youtube.com/embed/gukxBus8lOs\"\n",
              "            frameborder=\"0\"\n",
              "            allowfullscreen\n",
              "        ></iframe>\n",
              "        "
            ],
            "text/plain": [
              "<IPython.lib.display.YouTubeVideo at 0x17822884e20>"
            ]
          },
          "execution_count": 13,
          "metadata": {},
          "output_type": "execute_result"
        }
      ],
      "source": [
        "from IPython.display import YouTubeVideo\n",
        "YouTubeVideo('gukxBus8lOs')"
      ]
    },
    {
      "cell_type": "markdown",
      "metadata": {
        "id": "TSyPS1nfspD_"
      },
      "source": [
        "El objetivo de este problema es determinar la mejor estrategia de inversión, dados diferentes tipos de bono, la máxima cantidad que puede ser invertida en cada bono, el porcentaje de retorno y los años de madurez. También hay una cantidad fija de dinero disponible ($\\$750,000$). Por lo menos la mitad de este dinero debe ser invertido en bonos con 10 años o más para la madurez. Se puede invertir un máximo del $25\\%$ de esta cantidad en cada bono. Finalmente, hay otra restricción que no permite usar más de $35\\%$ en bonos de alto riesgo.\n",
        "\n",
        "Existen seis (6) opciones de inversión con las letras correspondientes $A_i$\n",
        "\n",
        "1. $A_1$:(Tasa de retorno=$8.65\\%$; Años para la madurez=11, Riesgo=Bajo)\n",
        "1. $A_2$:(Tasa de retorno=$9.50\\%$; Años para la madurez=10, Riesgo=Alto)\n",
        "1. $A_3$:(Tasa de retorno=$10.00\\%$; Años para la madurez=6, Riesgo=Alto)\n",
        "1. $A_4$:(Tasa de retorno=$8.75\\%$; Años para la madurez=10, Riesgo=Bajo)\n",
        "1. $A_5$:(Tasa de retorno=$9.25\\%$; Años para la madurez=7, Riesgo=Alto)\n",
        "1. $A_6$:(Tasa de retorno=$9.00\\%$; Años para la madurez=13, Riesgo=Bajo)\n",
        "\n",
        "Lo que se quiere entonces es maximizar el retorno que deja la inversión.\n",
        "\n",
        "Este problema puede ser resuelto con programación lineal. Formalmente, puede ser descrito como:\n",
        "\n",
        "$$\\max_{A_1,A_2,...,A_6}\\sum^{6}_{i=1} A_iR_i,$$\n",
        "\n",
        "donde $A_i$ representa la cantidad invertida en la opción, y $R_i$ representa la tasa de retorno respectiva."
      ]
    },
    {
      "cell_type": "markdown",
      "source": [],
      "metadata": {
        "id": "7NrNboYr--44"
      }
    },
    {
      "cell_type": "code",
      "execution_count": null,
      "metadata": {
        "id": "NlKUjTohspD_"
      },
      "outputs": [],
      "source": [
        "Aub = np.array ([\n",
        "    [1, 1, 1, 0, 0, 0],\n",
        "    [0, 0, 0, 1, 1, 1]\n",
        "])\n",
        "\n",
        "bub = np.array([500,\n",
        "                400])\n",
        "Aeq = np.array ([\n",
        "    [1, 0, 0, 1, 0, 0],\n",
        "    [0, 1, 0, 0, 1, 0],\n",
        "    [0, 0, 1, 0, 0, 1]\n",
        "] )\n",
        "beq = np.array ([200,\n",
        "                 300,\n",
        "                 400\n",
        "])\n",
        "sol = opt.linprog(c, Aub, bub, Aeq, beq)\n",
        "sol"
      ]
    }
  ],
  "metadata": {
    "kernelspec": {
      "display_name": "Python 3 (ipykernel)",
      "language": "python",
      "name": "python3"
    },
    "language_info": {
      "codemirror_mode": {
        "name": "ipython",
        "version": 3
      },
      "file_extension": ".py",
      "mimetype": "text/x-python",
      "name": "python",
      "nbconvert_exporter": "python",
      "pygments_lexer": "ipython3",
      "version": "3.8.11"
    },
    "colab": {
      "provenance": []
    }
  },
  "nbformat": 4,
  "nbformat_minor": 0
}